{
 "cells": [
  {
   "cell_type": "markdown",
   "id": "6167b7d2-e3d5-4e29-b952-45f39120918c",
   "metadata": {},
   "source": [
    "### For more info, see the [Github repo](https://github.com/rlaugier/nifits) and the [documentation](https://rlaugier.github.io/nifits_doc.github.io/)"
   ]
  },
  {
   "cell_type": "code",
   "execution_count": null,
   "id": "9ba6000aa182689f",
   "metadata": {},
   "outputs": [],
   "source": [
    "import numpy as np\n",
    "import matplotlib.pyplot as plt\n",
    "import astropy.units as u"
   ]
  },
  {
   "cell_type": "markdown",
   "id": "bb883ec2d9e47628",
   "metadata": {},
   "source": [
    "# 1. Create example data\n",
    "# 1.1 Setup a 3T kernel-nuller"
   ]
  },
  {
   "cell_type": "markdown",
   "id": "991c4e7f-a462-40ed-8dc6-cdc0248a3815",
   "metadata": {},
   "source": [
    "Nota: the ``NI_IOTAGS`` and ``NI_DSAMP`` are not mandatory. In this example, they are trivial and transparent. Use the parameters ``include_iotags`` and ``include_downsampling`` to include them or not.\n",
    "activate and deactivate these extensions."
   ]
  },
  {
   "cell_type": "code",
   "execution_count": null,
   "id": "c5388f72880cbce9",
   "metadata": {},
   "outputs": [],
   "source": [
    "# combiner matrix for a 3T kernel nuller (from github.com/rlaugier/kernuller)\n",
    "combiner = np.array(((1, -1), (1, 1)), dtype=complex) / np.sqrt(2)\n",
    "mat_3T_txt = \"\"\"\n",
    "Matrix([\n",
    "[sqrt(3)/3,                sqrt(3)/3,                sqrt(3)/3],\n",
    "[sqrt(3)/3,  sqrt(3)*exp(2*I*pi/3)/3, sqrt(3)*exp(-2*I*pi/3)/3],\n",
    "[sqrt(3)/3, sqrt(3)*exp(-2*I*pi/3)/3,  sqrt(3)*exp(2*I*pi/3)/3]])\n",
    "\"\"\"\n",
    "import sympy as sp\n",
    "combiner_s = sp.sympify(mat_3T_txt)\n",
    "combiner = np.array(sp.N(combiner_s,), dtype=np.complex128)\n",
    "\n",
    "kmat = np.array([[0.0, 1.0, -1.0],])\n",
    "\n",
    "include_iotags = True\n",
    "include_downsampling = True\n",
    "if include_iotags:\n",
    "    from astropy.table import Column\n",
    "    outbright = np.array([True, False, False])[None,:]\n",
    "    outphot = np.array([False, False, False])[None,:]\n",
    "    outdark = np.array([False, True, True])[None,:]\n",
    "    inpol = np.array([\"s\",\"s\",\"s\"])[None,:]\n",
    "    outpol = np.array([\"s\",\"s\",\"s\"])[None,:]\n",
    "    \n",
    "\n",
    "# collector positions\n",
    "baseline = 15  # in meter\n",
    "# Collector diameter\n",
    "telescope_diam = 3.0\n",
    "\n",
    "# rotation angles over observation\n",
    "n_sample_time = 100\n",
    "rotation_angle = np.linspace(0., 2*np.pi, n_sample_time)  # in rad\n",
    "\n",
    "# collector_positions_init = np.array(((-baseline/2, baseline/2),\n",
    "#                                      (0, 0)))\n",
    "\n",
    "collector_positions_init = np.array(((-baseline/2, baseline/2, 0),\n",
    "                                     (0, 0, baseline/2)))\n",
    "\n",
    "rotation_matrix = np.array(((np.cos(rotation_angle), -np.sin(rotation_angle)),\n",
    "                            (np.sin(rotation_angle), np.cos(rotation_angle))))\n",
    "\n",
    "collector_position = np.dot(np.swapaxes(rotation_matrix, -1, 0), collector_positions_init)\n",
    "\n",
    "# observing wavelengths\n",
    "n_wl_bin = 5\n",
    "wl_bins = np.linspace(4.0e-6, 18.0e-6, n_wl_bin)  # in meter\n",
    "\n",
    "# collector area\n",
    "scaled_area = 1  # in meter^2\n",
    "\n",
    "# Measurement covariance \n",
    "# np.random.seed(10)\n",
    "# np.random.normal(loc=(), size=wl_bin.shape)\n",
    "cov = 1e1 * np.eye(kmat.shape[0] * wl_bins.shape[0])\n",
    "covs = np.array([cov for i in range(n_sample_time)])\n",
    "print(covs.shape)"
   ]
  },
  {
   "cell_type": "code",
   "execution_count": null,
   "id": "0f47e197-4ae1-4737-b03f-6f07bad0db36",
   "metadata": {},
   "outputs": [],
   "source": [
    "collector_positions_init.T\n",
    "from astropy.table import Table\n",
    "myarraytable = Table(names=[\"TEL_NAME\", \"STA_NAME\", \"STA_INDEX\", \"DIAMETER\", \"STAXYZ\"],\n",
    "                    dtype=[str, str, int, float, \"(3,)double\"],\n",
    "                    units=[None, None, None, \"m\", \"m\"])\n",
    "for i, (atelx, ately) in enumerate(collector_positions_init.T):\n",
    "    myarraytable.add_row([f\"Tel {i}\", f\"\", i, telescope_diam, np.array([atelx, ately, 0.])])"
   ]
  },
  {
   "cell_type": "markdown",
   "id": "9bd345fce2b125a8",
   "metadata": {},
   "source": [
    "# 2. Initialize a nifits object\n",
    "## 2.1 Showcasing a list of NIFITS extensions"
   ]
  },
  {
   "cell_type": "code",
   "execution_count": null,
   "id": "f4d10106-941c-4701-90d2-12989cfa92f8",
   "metadata": {},
   "outputs": [],
   "source": [
    "import nifits.io.oifits as io\n",
    "for aclass in io.NIFITS_EXTENSIONS:\n",
    "    a = io.getclass(aclass)\n",
    "    print()\n",
    "    print(aclass, \" :\")\n",
    "    print(\"---------------\")\n",
    "    print(a.__doc__)\n",
    "    print(\"==============================================================\")"
   ]
  },
  {
   "cell_type": "code",
   "execution_count": null,
   "id": "e1f39c2b-7998-48c2-9932-a339d458ffef",
   "metadata": {},
   "outputs": [],
   "source": [
    "# For the sake of this example the array is located at Paranal observatory, yet it is defined as a fixed\n",
    "# array of three telescopes rotating around the line of sight, rather like a space interferometer would.\n",
    "# For the sake of forward modelling, OI_ARRAY is irrelevant, only the values in NI_MOD matter.\n",
    "oi_array = io.OI_ARRAY(data_table=myarraytable, header=io.OI_ARRAY_DEFAULT_VLTI_HEADER)"
   ]
  },
  {
   "cell_type": "code",
   "execution_count": null,
   "id": "b21b2d285ba2f647",
   "metadata": {},
   "outputs": [],
   "source": [
    "ni_catm = io.NI_CATM(data_array=combiner[None, :, :] * np.ones_like(wl_bins)[:,None,None])"
   ]
  },
  {
   "cell_type": "code",
   "execution_count": null,
   "id": "26da90aa-4e70-4f99-aec1-3d9dd29df369",
   "metadata": {},
   "outputs": [],
   "source": [
    "mykmat = io.NI_KMAT(data_array=kmat)"
   ]
  },
  {
   "cell_type": "code",
   "execution_count": null,
   "id": "9b64e4bc8da61089",
   "metadata": {},
   "outputs": [],
   "source": [
    "from copy import copy\n",
    "my_FOV_header = copy(io.NI_FOV_DEFAULT_HEADER)\n",
    "my_FOV_header[\"NIFITS FOV_TELDIAM\"] = telescope_diam\n",
    "my_FOV_header[\"NIFITS FOV_TELDIAM_UNIT\"] = \"m\"\n",
    "ni_fov = io.NI_FOV.simple_from_header(header=my_FOV_header, lamb=wl_bins,\n",
    "                                  n=n_sample_time)"
   ]
  },
  {
   "cell_type": "code",
   "execution_count": null,
   "id": "8ddc9169f71d81d5",
   "metadata": {},
   "outputs": [],
   "source": [
    "oi_target = io.OI_TARGET.from_scratch()\n",
    "oi_target.add_target(target='Test Target', \n",
    "                      raep0=14.3, \n",
    "                      decep0=-60.4)"
   ]
  },
  {
   "cell_type": "code",
   "execution_count": null,
   "id": "33efd289-f39f-4720-aebb-f9bb9e9846ba",
   "metadata": {},
   "outputs": [],
   "source": [
    "mykcov = ni_kcov = io.NI_KCOV(data_array=covs, unit=(u.ph/u.s)**2)"
   ]
  },
  {
   "cell_type": "code",
   "execution_count": null,
   "id": "277f8eae-00a8-48e2-a06b-d77ea7662b8b",
   "metadata": {},
   "outputs": [],
   "source": [
    "from astropy.table import Table, Column\n",
    "from astropy.time import Time\n",
    "n_telescopes = combiner.shape[1]\n",
    "total_obs_time = 10*3600      # s\n",
    "times_relative = np.linspace(0, total_obs_time, n_sample_time)\n",
    "dateobs = Time(\"2035-06-23T00:00:00.000\") + times_relative*u.s\n",
    "mjds = dateobs.to_value(\"mjd\")\n",
    "seconds = (dateobs - dateobs[0]).to_value(\"s\")\n",
    "target_id = np.zeros_like(times_relative)\n",
    "app_index = np.arange(n_telescopes)[None,:]*np.ones(n_sample_time)[:,None]\n",
    "target_ids = 0 * np.ones(n_sample_time)\n",
    "int_times = np.gradient(seconds)\n",
    "mod_phas = np.ones((n_sample_time, n_wl_bin, n_telescopes), dtype=complex)\n",
    "appxy = collector_position.transpose((0,2,1))\n",
    "arrcol = np.ones((n_sample_time, n_telescopes)) * np.pi*telescope_diam**2 / 4\n",
    "fov_index = np.ones(n_sample_time)\n",
    "\n",
    "app_index         = Column(data=app_index, name=\"APP_INDEX\",\n",
    "                   unit=None, dtype=int)\n",
    "target_id         = Column(data=target_ids, name=\"TARGET_ID\",\n",
    "                   unit=None, dtype=int)\n",
    "times_relative    = Column(data=seconds, name=\"TIME\",\n",
    "                   unit=\"\", dtype=float)\n",
    "mjds              = Column(data=mjds, name=\"MJD\",\n",
    "                   unit=\"day\", dtype=float)\n",
    "int_times         = Column(data=seconds, name=\"INT_TIME\",\n",
    "                   unit=\"s\", dtype=float)\n",
    "mod_phas          = Column(data=mod_phas, name=\"MOD_PHAS\",\n",
    "                   unit=None, dtype=complex)\n",
    "appxy             = Column(data=appxy, name=\"APPXY\",\n",
    "                   unit=\"m\", dtype=float)\n",
    "arrcol            = Column(data=arrcol, name=\"ARRCOL\",\n",
    "                   unit=\"m^2\", dtype=float)\n",
    "fov_index         = Column(data=fov_index, name=\"FOV_INDEX\",\n",
    "                   unit=None, dtype=int)\n",
    "mymod_table = Table()\n",
    "mymod_table.add_columns((app_index, target_id, times_relative, mjds,\n",
    "                        int_times, mod_phas, appxy, arrcol, fov_index))\n",
    "mymod_table\n",
    "mynimod = io.NI_MOD(mymod_table)"
   ]
  },
  {
   "cell_type": "markdown",
   "id": "556d2fcb-3a10-4ef5-8993-7f0f442e6a3e",
   "metadata": {},
   "source": [
    "## 2.2 Creating the NIFITS parent object"
   ]
  },
  {
   "cell_type": "code",
   "execution_count": null,
   "id": "faeb0bbf-94ec-4868-bb6a-dbf7dcb7eb87",
   "metadata": {},
   "outputs": [],
   "source": [
    "\n",
    "from astropy.io import fits\n",
    "\n",
    "wl_data = np.hstack((wl_bins[:,None], np.gradient(wl_bins)[:,None]))\n",
    "wl_table = Table(data=wl_data, names=(\"EFF_WAVE\", \"EFF_BAND\"), dtype=(float, float))\n",
    "wl_table\n",
    "\n",
    "del wl_data\n",
    "oi_wavelength = io.OI_WAVELENGTH(data_table=wl_table,)\n",
    "# oi_wavelength = io.OI_WAVELENGTH()\n",
    "\n",
    "if include_downsampling:\n",
    "    ni_oswavelength = io.NI_OSWAVELENGTH(data_table=wl_table,)\n",
    "    ni_dsamp = io.NI_DSAMP(data_array=np.eye(len(wl_table)))\n",
    "else:\n",
    "    ni_oswavelength = None\n",
    "    ni_dsamp = None\n",
    "\n",
    "if include_iotags:\n",
    "    \n",
    "    # outbrightcol = Column(data=outbright,\n",
    "    #                    name=\"BRIGHT\", unit=None,dtype=bool)\n",
    "    # outphotcol = Column(data=outphot,\n",
    "    #                    name=\"PHOT\", unit=None,dtype=bool)\n",
    "    # outdarkcol = Column(data=outdark,\n",
    "    #                    name=\"DARK\", unit=None,dtype=bool)\n",
    "    # inpolcol = Column(data=inpol,\n",
    "    #                    name=\"OUTPOLA\", unit=None,dtype=str)\n",
    "    # outpolcol = Column(data=outpol,\n",
    "    #                    name=\"INPOLA\", unit=None,dtype=str)\n",
    "    # iotags_table = Table()\n",
    "    # iotags_table.add_columns((outbrightcol, outphotcol, outdarkcol, inpolcol, outpolcol))\n",
    "    # ni_iotags = io.NI_IOTAGS(data_table=iotags_table)\n",
    "    ni_iotags = io.NI_IOTAGS.from_arrays(outbright=outbright, outdark=outdark, outphot=outphot,\n",
    "                             inpola = inpol, outpola=outpol)\n",
    "else :\n",
    "    ni_iotags = None\n",
    "\n",
    "myheader = fits.Header()\n",
    "mynifit = io.nifits(header=myheader,\n",
    "                        oi_array=oi_array,\n",
    "                        ni_catm=ni_catm,\n",
    "                        ni_fov=ni_fov,\n",
    "                        oi_target=oi_target,\n",
    "                        oi_wavelength=oi_wavelength,\n",
    "                        ni_mod=mynimod,\n",
    "                        ni_kmat=mykmat,\n",
    "                        ni_kcov=mykcov,\n",
    "                        ni_dsamp=ni_dsamp,\n",
    "                        ni_oswavelength=ni_oswavelength,\n",
    "                        ni_iotags=ni_iotags)\n",
    "\n",
    "mynifit.__dict__.keys()"
   ]
  },
  {
   "cell_type": "markdown",
   "id": "7e310a0a-4782-49bd-8140-89b921d0ae24",
   "metadata": {},
   "source": [
    "#### 2.3 Saving and opening"
   ]
  },
  {
   "cell_type": "code",
   "execution_count": null,
   "id": "8bb1e9e4-70c4-4898-bf46-3dce64bba966",
   "metadata": {},
   "outputs": [],
   "source": [
    "mkdir log"
   ]
  },
  {
   "cell_type": "code",
   "execution_count": null,
   "id": "c82387ab-6c44-40aa-9f9f-4852ad0c04fc",
   "metadata": {},
   "outputs": [],
   "source": [
    "myhdu = mynifit.to_nifits(filename=\"log/testfits.nifits\",\n",
    "                            static_only=False,\n",
    "                          writefile=True,\n",
    "                         overwrite=True)\n",
    "myhdu[0].header"
   ]
  },
  {
   "cell_type": "markdown",
   "id": "40eb60ab-4aed-415a-a392-f06ac3d30088",
   "metadata": {},
   "source": [
    "# Test header check\n"
   ]
  },
  {
   "cell_type": "markdown",
   "id": "474b18e6-c3e1-413d-9795-7f6563d7830a",
   "metadata": {},
   "source": [
    "import warnings\n",
    "def check_item(func):\n",
    "    \"\"\"\n",
    "    A decorator for the header getitem. \n",
    "    \"\"\"\n",
    "    def inner(*args, **kwargs):\n",
    "        good_kw = True\n",
    "        try :\n",
    "            item = func(*args, **kwargs)\n",
    "            good_kw = True\n",
    "        except KeyError: \n",
    "            good_kw = False\n",
    "        if good_kw:\n",
    "            return item\n",
    "        bad_kw = True\n",
    "        try : \n",
    "            akw = args[1]\n",
    "            mykw = akw.split(\" \")[-1]\n",
    "            baditem = func(args[0], mykw, **kwargs)\n",
    "            bad_kw = True\n",
    "        except KeyError: \n",
    "            bad_kw = False\n",
    "        \n",
    "        if bad_kw and not good_kw:\n",
    "            warnings.warn(f\"keyword deprecated in the file. Expected `{args[1]}` (`HIERARCH` keyword)\\n Returning `{mykw}`\\n This file will become obsolete.\")\n",
    "            item = baditem\n",
    "            return item\n",
    "        elif not bad_kw and not good_kw:\n",
    "            raise KeyError(f\"Neither {args[1]} nor {mykw} found.\")\n",
    "            return None\n",
    "            \n",
    "            \n",
    "        return item\n",
    "    return inner\n",
    "fits.Header.__getitem__ = check_item(fits.Header.__getitem__)\n",
    "\n"
   ]
  },
  {
   "cell_type": "code",
   "execution_count": null,
   "id": "7e95a07c-9bcc-40e0-a3a9-e31cbf595f2e",
   "metadata": {},
   "outputs": [],
   "source": [
    "with fits.open(\"log/testfits.nifits\") as anhdu:\n",
    "    newfits = io.nifits.from_nifits(anhdu)\n",
    "newfits.header"
   ]
  },
  {
   "cell_type": "markdown",
   "id": "092c7746-01d9-4c8a-a332-2bb71a990587",
   "metadata": {},
   "source": []
  },
  {
   "cell_type": "markdown",
   "id": "fa4c3172-db36-47b9-aa17-6350fc016725",
   "metadata": {},
   "source": [
    "|  Column      |  format                   |  unit            | Empty |\n",
    "|:------------:|:------------------------- |:---------------- | ---- | \n",
    "|  `APP_INDEX` |  $n_a \\times$ int         |  NA              |     |\n",
    "|  `TARGET_ID` |  int                      |  d               |     |\n",
    "|  `TIME`      |  float                    |  s               |     |\n",
    "|  `MJD`       |  float                    |  day             |     |\n",
    "|  `INT_TIME`  |  float                    |  s               |     |\n",
    "|  `MOD_PHAS`  |  $n_{\\lambda}, n_a $ cpx  |                  |     |\n",
    "|  `APPXY`     |  $n_a, 2 $ float          | m               |      |\n",
    "|  `ARRCOL`    |  $n_a $ float             |  $\\mathrm{m}^2$  |     |\n",
    "|  `FOV_INDEX` |  $n_a $ int               |  NA              |     |"
   ]
  },
  {
   "cell_type": "markdown",
   "id": "6e1c3cac-1a28-42fd-8fb2-9ff47ac0f783",
   "metadata": {},
   "source": [
    "# 3. Testing the back end\n",
    "## 3.1 Loading a file into the backend"
   ]
  },
  {
   "cell_type": "code",
   "execution_count": null,
   "id": "722bab15-5668-4bae-b74a-4e9fa15fa55f",
   "metadata": {},
   "outputs": [],
   "source": [
    "import nifits.backend as be"
   ]
  },
  {
   "cell_type": "code",
   "execution_count": null,
   "id": "737294fe-92e2-4c2e-a45a-39e9d030e3a7",
   "metadata": {},
   "outputs": [],
   "source": [
    "mybe = be.NI_Backend(newfits)\n",
    "abe = be.NI_Backend()\n",
    "abe.add_instrument_definition(mynifit)\n",
    "# abe.add_observation_data(mynifit)\n",
    "abe.create_fov_function_all()\n",
    "print(abe.nifits.header)"
   ]
  },
  {
   "cell_type": "markdown",
   "id": "1987eb2e-ee4c-4bed-8f9c-ced625ae1362",
   "metadata": {},
   "source": [
    "## 3.2 Freehanding the backend"
   ]
  },
  {
   "cell_type": "code",
   "execution_count": null,
   "id": "21af5c92-3029-4c0a-b2a8-61a024229e15",
   "metadata": {},
   "outputs": [],
   "source": [
    "halfrange = 1000\n",
    "halfrange_rad = halfrange*u.mas.to(u.rad)\n",
    "xs = np.linspace(-halfrange_rad, halfrange_rad, 100)\n",
    "map_extent = [-halfrange, halfrange, -halfrange, halfrange]\n",
    "xx, yy = np.meshgrid(xs, xs)"
   ]
  },
  {
   "cell_type": "markdown",
   "id": "fe3349d9-f888-4ada-a7b7-c3f6a98d2f85",
   "metadata": {},
   "source": [
    "## 3.2.1 The field of view function"
   ]
  },
  {
   "cell_type": "code",
   "execution_count": null,
   "id": "8c773c35-ea81-466a-9aef-9b1a288c9475",
   "metadata": {},
   "outputs": [],
   "source": [
    "map_fov = abe.nifits.ni_fov.xy2phasor(xx.flatten(), yy.flatten())\n",
    "plt.figure(dpi=100)\n",
    "plt.imshow(np.abs(map_fov[0,0,:].reshape((xx.shape))), extent=map_extent)\n",
    "plt.colorbar()\n",
    "plt.contour(np.abs(map_fov[0,0,:].reshape((xx.shape))), levels=(0.5,), extent=map_extent)\n",
    "plt.title(\"Wavelength bin 0\")\n",
    "plt.show()\n",
    "\n",
    "plt.figure(dpi=100)\n",
    "plt.imshow(np.abs(map_fov[0,-1,:].reshape((xx.shape))), extent=map_extent)\n",
    "plt.colorbar()\n",
    "plt.contour(np.abs(map_fov[0,-1,:].reshape((xx.shape))), levels=(0.5,), extent=map_extent)\n",
    "plt.title(\"Wavelength bin -1\")\n",
    "plt.show()"
   ]
  },
  {
   "cell_type": "code",
   "execution_count": null,
   "id": "99816e45-c701-4fb2-b9ec-e12d48e748f0",
   "metadata": {},
   "outputs": [],
   "source": [
    "print(\"lambda/D : \", (wl_bins/telescope_diam)*u.rad.to(u.mas))"
   ]
  },
  {
   "cell_type": "markdown",
   "id": "45baa517-c17e-401e-a4c1-eeb62036617a",
   "metadata": {},
   "source": [
    "## 3.3 The forward-modeled outputs\n",
    "\n",
    "`backend.get_all_outs` takes in arrays of coordinates and returns either the raw outputs (`kernels=False`) or the full \n",
    "\n",
    "### 3.3.1 With random samples"
   ]
  },
  {
   "cell_type": "code",
   "execution_count": null,
   "id": "92a73ccc-f660-4f67-bb18-aff96f7daeca",
   "metadata": {},
   "outputs": [],
   "source": [
    "xys_mas = np.random.uniform(low=-500, high=+500, size=(2,10000)) \n",
    "xys = xys_mas * u.mas.to(u.rad)\n",
    "# xysm = xys[:,:]\n",
    "%time z = abe.get_all_outs(xys[0,:], xys[1,:], kernels=False)"
   ]
  },
  {
   "cell_type": "code",
   "execution_count": null,
   "id": "0b1192dd-9dbf-4491-969d-8ac69d29e924",
   "metadata": {},
   "outputs": [],
   "source": [
    "plt.figure()\n",
    "plt.plot(z[:,1,1,1000])\n",
    "plt.show()"
   ]
  },
  {
   "cell_type": "markdown",
   "id": "93833084-eca4-49f7-87b4-88d01e343004",
   "metadata": {},
   "source": [
    "### Note the shape of the output: "
   ]
  },
  {
   "cell_type": "code",
   "execution_count": null,
   "id": "d6f677d0-8108-4550-9b96-7f07cfdc40b9",
   "metadata": {},
   "outputs": [],
   "source": [
    "print(be.NI_Backend.get_all_outs.__doc__)"
   ]
  },
  {
   "cell_type": "code",
   "execution_count": null,
   "id": "143b7889-9dc0-4b1f-af49-a53b3c148089",
   "metadata": {},
   "outputs": [],
   "source": [
    "plt.figure()\n",
    "plt.scatter(xys_mas[0,:],xys_mas[1,:], c=z[0,-1,1,:], cmap=\"viridis\", s=6)\n",
    "plt.colorbar()\n",
    "plt.gca().set_aspect(\"equal\")\n",
    "plt.title(f\"The response of output 1 [$m^2$] collecting power.\")\n",
    "plt.xlabel(\"Relative position [mas]\")\n",
    "plt.show()\n",
    "\n",
    "kz = abe.get_all_outs(xys[0,:], xys[1,:], kernels=True)\n",
    "plt.figure()\n",
    "plt.scatter(xys_mas[0,:],xys_mas[1,:], c=kz[0,-1,0,:], cmap=\"coolwarm\", s=6)\n",
    "plt.colorbar()\n",
    "plt.gca().set_aspect(\"equal\")\n",
    "plt.title(f\"The differential response map [$m^2$] collecting power.\")\n",
    "plt.xlabel(\"Relative position [mas]\")\n",
    "plt.show()\n",
    "\n",
    "x_inj = abe.nifits.ni_fov.xy2phasor(xys[0,:], xys[1,:])\n",
    "plt.figure()\n",
    "plt.scatter(xys_mas[0,:],xys_mas[1,:], c=np.abs(x_inj[0,-1,:]), cmap=\"viridis\", s=6)\n",
    "plt.colorbar()\n",
    "plt.gca().set_aspect(\"equal\")\n",
    "plt.title(f\"The FoV function\")\n",
    "plt.xlabel(\"Relative position [mas]\")\n",
    "plt.show()\n",
    "print(np.max(z))"
   ]
  },
  {
   "cell_type": "code",
   "execution_count": null,
   "id": "db421430-c995-471c-bb3d-f8987e26a7b7",
   "metadata": {},
   "outputs": [],
   "source": [
    "a = np.random.normal(size=10)\n",
    "b = np.random.normal(size=5)\n",
    "a[:,None].dot(b[None,:])"
   ]
  },
  {
   "cell_type": "code",
   "execution_count": null,
   "id": "9ff31090-367b-4103-aadd-ad579fd18b6f",
   "metadata": {},
   "outputs": [],
   "source": [
    "abe.nifits.ni_mod.appxy.shape"
   ]
  },
  {
   "cell_type": "code",
   "execution_count": null,
   "id": "41e1f151-a620-4e50-998b-49a62f05252f",
   "metadata": {},
   "outputs": [],
   "source": []
  },
  {
   "cell_type": "markdown",
   "id": "8a7c0331-cd2f-4e1e-bbc0-8c5fca8e2e25",
   "metadata": {},
   "source": [
    "# 4. Additional convenience tools\n",
    "\n",
    "## 4.1 Handling point collections with `PointCollection`\n",
    "\n",
    "These can be used for a smooth and unified interface for simulating parametrically positionned point-like or extended objects.\n",
    "\n",
    "Further down the line, these can be \"summed\" together with a `+` operator to create arbitrary sampled maps."
   ]
  },
  {
   "cell_type": "code",
   "execution_count": null,
   "id": "1928c55a-0f2c-416d-87ba-7b67bdd30cfa",
   "metadata": {},
   "outputs": [],
   "source": [
    "print(be.PointCollection.__doc__)"
   ]
  },
  {
   "cell_type": "markdown",
   "id": "0cf4de2c-2116-46e4-bdd9-e95518ff5482",
   "metadata": {},
   "source": [
    "You can do it for one point and the computation is relatively fast."
   ]
  },
  {
   "cell_type": "code",
   "execution_count": null,
   "id": "b9d615f9-fe7f-4050-b780-f44049150ab9",
   "metadata": {},
   "outputs": [],
   "source": [
    "one_point = be.PointCollection(np.array((10.,)), np.array((20.,)), unit=u.mas)\n",
    "%timeit z = abe.get_all_outs(*one_point.coords_rad, kernels=True)"
   ]
  },
  {
   "cell_type": "markdown",
   "id": "7588715b-5c6f-4037-9ccb-4833d73892ef",
   "metadata": {},
   "source": [
    "### 4.1.1 A boring cartesian grid using `PointCollection.from_centered_square_grid`"
   ]
  },
  {
   "cell_type": "code",
   "execution_count": null,
   "id": "4227021b-98b4-4cd0-8dfc-6bd4df398a91",
   "metadata": {},
   "outputs": [],
   "source": [
    "%%time\n",
    "acollec = be.PointCollection.from_centered_square_grid(600., 100, md=np)\n",
    "x_inj = abe.nifits.ni_fov.xy2phasor(*acollec.coords_rad)\n",
    "plt.figure()\n",
    "plt.scatter(*acollec.coords, c=np.abs(x_inj[0,-1,:]), cmap=\"viridis\", s=5)\n",
    "plt.colorbar()\n",
    "plt.gca().set_aspect(\"equal\")\n",
    "plt.title(\"The Fov function\")\n",
    "plt.xlabel(\"Relative position [mas]\")\n",
    "plt.show()\n",
    "\n",
    "z = abe.get_all_outs(*acollec.coords_rad, kernels=True)\n",
    "\n",
    "plt.figure()\n",
    "plt.scatter(*acollec.coords, c=z[0,-1,0,:], cmap=\"coolwarm\", s=5)\n",
    "plt.colorbar()\n",
    "plt.gca().set_aspect(\"equal\")\n",
    "plt.title(f\"The response map [$m^2$] collecting power.\")\n",
    "plt.xlabel(\"Relative position [mas]\")\n",
    "plt.show()\n",
    "\n",
    "print(np.max(z))\n"
   ]
  },
  {
   "cell_type": "markdown",
   "id": "aa49a53c-8e1a-4a3b-83b3-cda4f7393209",
   "metadata": {},
   "source": [
    "### Or reshaping to a 2D array with `.orig_shape` and `.extent`"
   ]
  },
  {
   "cell_type": "code",
   "execution_count": null,
   "id": "bae8bfb8-8860-44b9-ae91-1a748126809e",
   "metadata": {},
   "outputs": [],
   "source": [
    "plt.figure()\n",
    "plt.imshow(z[0,-1,0,:].reshape(acollec.orig_shape),\n",
    "           cmap=\"coolwarm\",\n",
    "           extent=acollec.extent)\n",
    "plt.colorbar()\n",
    "plt.xlabel(\"\")\n",
    "plt.show()"
   ]
  },
  {
   "cell_type": "markdown",
   "id": "3699f49e-cd09-4ec4-aa79-afed2dc97c1d",
   "metadata": {},
   "source": [
    "### 4.1.2 A point-sampled disk using `PointCollection.from_uniform_disk`\n",
    "N.B. This merges well with `scipy.interpolate.griddata` "
   ]
  },
  {
   "cell_type": "code",
   "execution_count": null,
   "id": "1b3c8774-a3bf-431d-b2ad-5f54ef5a2c77",
   "metadata": {},
   "outputs": [],
   "source": [
    "%%time\n",
    "acollec = be.PointCollection.from_uniform_disk(600., 600)\n",
    "\n",
    "z = abe.get_all_outs(*acollec.coords_rad, kernels=True)\n",
    "\n",
    "plt.figure()\n",
    "plt.scatter(*acollec.coords, c=z[0,-1,0,:], cmap=\"coolwarm\", s=80)\n",
    "plt.colorbar()\n",
    "plt.gca().set_aspect(\"equal\")\n",
    "plt.title(f\"The response map [$m^2$] collecting power.\")\n",
    "plt.xlabel(\"Relative position [mas]\")\n",
    "plt.show()\n",
    "\n",
    "x_inj = abe.nifits.ni_fov.xy2phasor(*acollec.coords_rad)\n",
    "plt.figure()\n",
    "plt.scatter(*acollec.coords, c=np.abs(x_inj[0,-1,:]), cmap=\"viridis\", s=80)\n",
    "plt.colorbar()\n",
    "plt.gca().set_aspect(\"equal\")\n",
    "plt.title(\"The Fov function\")\n",
    "plt.xlabel(\"Relative position [mas]\")\n",
    "plt.show()\n",
    "print(np.max(z))\n"
   ]
  },
  {
   "cell_type": "markdown",
   "id": "7d52416e-9537-4b79-aaac-a8a6ef17d506",
   "metadata": {},
   "source": [
    "### Can be resampled with `griddata` from scipy."
   ]
  },
  {
   "cell_type": "code",
   "execution_count": null,
   "id": "227378c6-8457-43bd-90a2-9e89c109e537",
   "metadata": {},
   "outputs": [],
   "source": [
    "from scipy.interpolate import griddata\n",
    "agrid = be.PointCollection.from_centered_square_grid(800., 512, md=np)\n",
    "interped = griddata(acollec.coords, z[0,-1,0,:], agrid.coords_shaped, method=\"nearest\")\n",
    "plt.figure()\n",
    "plt.imshow(interped, cmap=\"coolwarm\", extent=agrid.extent)\n",
    "plt.colorbar()\n",
    "plt.gca().set_aspect(\"equal\")\n",
    "plt.title(f\"The response map [$m^2$] collecting power.\")\n",
    "plt.xlabel(\"Relative position [mas]\")\n",
    "plt.show()"
   ]
  },
  {
   "cell_type": "markdown",
   "id": "2412a028-a6a0-4959-b243-466cbc3d74bb",
   "metadata": {},
   "source": [
    "### Of course, this contains the whole time series:"
   ]
  },
  {
   "cell_type": "code",
   "execution_count": null,
   "id": "a4a94164-e8b9-4d89-b4de-e15a81a7a1cd",
   "metadata": {},
   "outputs": [],
   "source": [
    "print(\"One every 5 frames of the sereis\", )\n",
    "fig, axes = plt.subplots(2,10, sharex=True, sharey=True, figsize=(10,2.2), dpi=150)\n",
    "for i, my_t_index in enumerate(range(len(newfits.ni_fov))[::5]):\n",
    "    plt.sca(axes.flat[i])\n",
    "    plt.scatter(*acollec.coords, c=z[my_t_index,-1,0,:], cmap=\"coolwarm\", s=2)\n",
    "    plt.title(my_t_index, fontsize=7)\n",
    "    # plt.colorbar()\n",
    "    plt.gca().set_aspect(\"equal\")\n",
    "#plt.title(f\"The response map [$m^2$] collecting power.\")\n",
    "# plt.xlabel(\"Relative position [mas]\")\n",
    "plt.subplots_adjust(top=0.5)\n",
    "plt.tight_layout()\n",
    "plt.show()"
   ]
  },
  {
   "cell_type": "markdown",
   "id": "fbf4aef6-0a0d-4121-ae78-e96324614406",
   "metadata": {},
   "source": [
    "### 4.1.3 A grid for a given using `PointCollection.from_grid`\n",
    "This can help to work with **regions of interest** (ROI)."
   ]
  },
  {
   "cell_type": "code",
   "execution_count": null,
   "id": "31f64241-9f6e-448e-bbd2-6a748f676552",
   "metadata": {},
   "outputs": [],
   "source": [
    "%%time\n",
    "offset_collec = be.PointCollection.from_grid(np.linspace(50, 600, 100), np.linspace(-500,500, 100))\n",
    "z = abe.get_all_outs(*offset_collec.coords_rad, kernels=True)\n",
    "\n",
    "plt.figure()\n",
    "plt.scatter(*offset_collec.coords, c=z[0,-1,0,:], cmap=\"coolwarm\", s=5)\n",
    "plt.colorbar()\n",
    "plt.gca().set_aspect(\"equal\")\n",
    "plt.title(f\"The response map [$m^2$] collecting power.\")\n",
    "plt.xlabel(\"Relative position [mas]\")\n",
    "plt.xlim(-600, 600)\n",
    "plt.ylim(-600, 600)\n",
    "plt.show()"
   ]
  },
  {
   "cell_type": "markdown",
   "id": "938cd6e6-aaf2-4e15-81e2-494eda2518f8",
   "metadata": {},
   "source": [
    "### 4.1.3 More fancy tools are available such as transformations, and addition"
   ]
  },
  {
   "cell_type": "code",
   "execution_count": null,
   "id": "2b59905a-3f55-4998-b83a-23c621d159dd",
   "metadata": {},
   "outputs": [],
   "source": [
    "from scipy.spatial.transform import Rotation\n",
    "acollec = be.PointCollection.from_uniform_disk(200., 400)\n",
    "mymat = mymatrix = Rotation.from_euler(\"xyz\", [60,0,30], degrees=True).as_matrix()\n",
    "acollec.transform(mymat,)\n",
    "bcollec = be.PointCollection.from_uniform_disk(600., 400)\n",
    "offset_collec = be.PointCollection.from_grid(np.linspace(-50, -600, 50), np.linspace(-500,500, 50))\n",
    "pcollec = be.PointCollection.from_uniform_disk(100., 300, offset=np.array((250., -50.)))\n",
    "acollec.md = np\n",
    "combined_collec = acollec + bcollec + offset_collec + pcollec\n",
    "z = abe.get_all_outs(*combined_collec.coords_rad, kernels=True)\n",
    "\n",
    "plt.figure()\n",
    "plt.scatter(*combined_collec.coords, c=z[0,-1,0,:], cmap=\"coolwarm\", s=2)\n",
    "plt.colorbar()\n",
    "plt.gca().set_aspect(\"equal\")\n",
    "plt.title(f\"The response map [$m^2$] collecting power.\")\n",
    "plt.xlabel(\"Relative position [mas]\")\n",
    "plt.xlim(-600, 600)\n",
    "plt.ylim(-600, 600)\n",
    "plt.show()"
   ]
  },
  {
   "cell_type": "code",
   "execution_count": null,
   "id": "2701b131-fab6-4424-849c-708494e39d50",
   "metadata": {},
   "outputs": [],
   "source": [
    "agrid = be.PointCollection.from_centered_square_grid(600., 512, md=np)\n",
    "interped = griddata(combined_collec.coords, z[0,-1,0,:], agrid.coords_shaped, method=\"nearest\")\n",
    "plt.figure(dpi=200)\n",
    "plt.imshow(interped, cmap=\"coolwarm\", extent=agrid.extent)\n",
    "plt.colorbar()\n",
    "plt.gca().set_aspect(\"equal\")\n",
    "plt.title(f\"The response map [$m^2$] collecting power.\")\n",
    "plt.xlabel(\"Relative position [mas]\")\n",
    "plt.title(f\"The response map [$m^2$] collecting power.\")\n",
    "plt.xlabel(\"Relative position [mas]\")\n",
    "plt.show()"
   ]
  },
  {
   "cell_type": "markdown",
   "id": "cb09d59a-73e0-494c-8ae0-b9932d497ac7",
   "metadata": {},
   "source": [
    "## 4.2 Temporal-varying samples:\n",
    "A way to compute the transmision map for arrays of points movig between frames.\n",
    "\n",
    "You can use MovingCollection which takes in a list of PointCollection -s and offer a similar friendly interface, catered for the `Backend.get_moving_outs()` method. Here is how it's done:"
   ]
  },
  {
   "cell_type": "markdown",
   "id": "1a597bce-f4a3-48eb-acf7-e65b0da4baa1",
   "metadata": {},
   "source": [
    "\n",
    "from dataclasses import dataclass, fields\n",
    "from nifits.backend import PointCollection\n",
    "from einops import rearrange\n",
    "\n",
    "\n"
   ]
  },
  {
   "cell_type": "code",
   "execution_count": null,
   "id": "36fdc22d8317f0ec",
   "metadata": {},
   "outputs": [],
   "source": [
    "collects = [be.PointCollection.from_uniform_disk(100., 300,\n",
    "                    offset=np.array((c, -50.))) for c in\\\n",
    "                    np.linspace(-300, 300,\n",
    "                            len(abe.nifits.ni_mod))]\n",
    "combined_collec = be.MovingCollection(collects)\n",
    "z = abe.get_moving_outs(*combined_collec.coords_rad, kernels=True)\n"
   ]
  },
  {
   "cell_type": "code",
   "execution_count": null,
   "id": "04f3bfd4-4cb2-489f-8b2c-a21d0df0337a",
   "metadata": {},
   "outputs": [],
   "source": [
    "fig, axes = plt.subplots(5,2, sharex=True, sharey=True, figsize=(4,10))\n",
    "for i, my_t_index in enumerate(range(len(newfits.ni_fov))[::10]):\n",
    "    plt.sca(axes.flat[i])\n",
    "    plt.scatter(*combined_collec.coords[:,my_t_index,:], c=z[my_t_index,-1,0,:], cmap=\"coolwarm\", s=2)\n",
    "    plt.title(my_t_index, fontsize=7)\n",
    "    # plt.colorbar()\n",
    "    plt.gca().set_aspect(\"equal\")\n",
    "#plt.title(f\"The response map [$m^2$] collecting power.\")\n",
    "# plt.xlabel(\"Relative position [mas]\")\n",
    "plt.xlim(-600, 600)\n",
    "plt.ylim(-600, 600)\n",
    "plt.tight_layout()\n",
    "# plt.show()"
   ]
  },
  {
   "cell_type": "code",
   "execution_count": null,
   "id": "1edac2bb-c2d5-4c35-b889-b0334e31fdfa",
   "metadata": {},
   "outputs": [],
   "source": []
  },
  {
   "cell_type": "markdown",
   "id": "8f0c710a-334d-4cf2-a75d-ac2b59e6ee43",
   "metadata": {},
   "source": [
    "# 5. Your turn!\n",
    "\n",
    "This space is dedicated to your own experimentations."
   ]
  },
  {
   "cell_type": "code",
   "execution_count": null,
   "id": "59232b08-6069-4cb1-a935-39b2f864167e",
   "metadata": {},
   "outputs": [],
   "source": []
  },
  {
   "cell_type": "code",
   "execution_count": null,
   "id": "5a6459c5-c14c-43d6-8ec0-986dbe66becf",
   "metadata": {},
   "outputs": [],
   "source": []
  },
  {
   "cell_type": "code",
   "execution_count": null,
   "id": "f7a07e59-a496-48eb-8455-75905cd2c6e1",
   "metadata": {},
   "outputs": [],
   "source": []
  },
  {
   "cell_type": "code",
   "execution_count": null,
   "id": "b6f3f23c-9cb6-4000-a58a-53ce0c2fbfcf",
   "metadata": {},
   "outputs": [],
   "source": []
  },
  {
   "cell_type": "code",
   "execution_count": null,
   "id": "94513b96-c838-4aa7-9c64-1d7d07dc1e8e",
   "metadata": {},
   "outputs": [],
   "source": []
  }
 ],
 "metadata": {
  "kernelspec": {
   "display_name": "Python 3 (ipykernel)",
   "language": "python",
   "name": "python3"
  },
  "language_info": {
   "codemirror_mode": {
    "name": "ipython",
    "version": 3
   },
   "file_extension": ".py",
   "mimetype": "text/x-python",
   "name": "python",
   "nbconvert_exporter": "python",
   "pygments_lexer": "ipython3",
   "version": "3.12.4"
  }
 },
 "nbformat": 4,
 "nbformat_minor": 5
}
